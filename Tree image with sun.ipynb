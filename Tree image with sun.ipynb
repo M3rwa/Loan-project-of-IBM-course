{
  "nbformat": 4,
  "nbformat_minor": 0,
  "metadata": {
    "colab": {
      "provenance": [],
      "authorship_tag": "ABX9TyPbJ4KDQtqL3YD+DLAyvPCL",
      "include_colab_link": true
    },
    "kernelspec": {
      "name": "python3",
      "display_name": "Python 3"
    },
    "language_info": {
      "name": "python"
    }
  },
  "cells": [
    {
      "cell_type": "markdown",
      "metadata": {
        "id": "view-in-github",
        "colab_type": "text"
      },
      "source": [
        "<a href=\"https://colab.research.google.com/github/M3rwa/Loan-project-of-IBM-course/blob/main/Tree%20image%20with%20sun.ipynb\" target=\"_parent\"><img src=\"https://colab.research.google.com/assets/colab-badge.svg\" alt=\"Open In Colab\"/></a>"
      ]
    },
    {
      "cell_type": "markdown",
      "source": [
        "#**libraries**"
      ],
      "metadata": {
        "id": "csYYA6libc6L"
      }
    },
    {
      "cell_type": "code",
      "source": [
        "import cv2 as cv\n",
        "from google.colab.patches import cv2_imshow\n",
        "import numpy as np\n",
        "import matplotlib.pyplot as plt"
      ],
      "metadata": {
        "id": "SQbQSguqbhag"
      },
      "execution_count": 117,
      "outputs": []
    },
    {
      "cell_type": "markdown",
      "source": [
        "# **Shape elements**"
      ],
      "metadata": {
        "id": "-P4pr-vgahSt"
      }
    },
    {
      "cell_type": "code",
      "source": [
        "#1-Background\n",
        "img = np.zeros((600, 900, 3), dtype= np.uint8)                                         \n",
        "cv.rectangle(img, (0,0), (900,500) ,(0,255,255), -1)\n",
        "cv.rectangle(img, (0,500), (900,600) ,(75,200,70), -1)\n",
        "#2-Sun\n",
        "cv.circle(img, (200,150), 70,(255,255,0), -1)\n",
        "cv.circle(img, (200,150), 90,(255,255,0), 13)\n",
        "#3-Tree\n",
        "cv.line(img, (710,500), (710,420), (111, 78, 55), 15)\n",
        "triangle = np.array([[640,460],[780,460],[710,200]],dtype = np.int32)\n",
        "cv.fillPoly(img, [triangle], (75,200,0))"
      ],
      "metadata": {
        "id": "uaRmiTs6am29"
      },
      "execution_count": null,
      "outputs": []
    },
    {
      "cell_type": "markdown",
      "source": [
        "# **Display the image**"
      ],
      "metadata": {
        "id": "GanZwSkfatIu"
      }
    },
    {
      "cell_type": "code",
      "source": [
        "cv.imwrite('tree.png',img)\n",
        "plt.title(\"Tree image\")\n",
        "plt.xticks([])\n",
        "plt.yticks([])\n",
        "plt.imshow(img)\n",
        "plt.show()"
      ],
      "metadata": {
        "colab": {
          "base_uri": "https://localhost:8080/",
          "height": 268
        },
        "id": "Ow9GRPajav-2",
        "outputId": "cd9166ba-b1c5-49a2-f500-b0d90f2e826c"
      },
      "execution_count": 116,
      "outputs": [
        {
          "output_type": "display_data",
          "data": {
            "text/plain": [
              "<Figure size 432x288 with 1 Axes>"
            ],
            "image/png": "[encoded data removed]"
          },
          "metadata": {}
        }
      ]
    }
  ]
}